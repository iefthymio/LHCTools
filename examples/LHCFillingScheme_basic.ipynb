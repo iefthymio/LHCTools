{
 "cells": [
  {
   "cell_type": "markdown",
   "metadata": {},
   "source": [
    "# LHC Filling Pattern from CALS data\n",
    "\n",
    "Info on the filling pattern for a fill\n",
    "- decode filling scheme with various functions\n",
    "- do some plots"
   ]
  },
  {
   "cell_type": "code",
   "execution_count": 1,
   "metadata": {},
   "outputs": [],
   "source": [
    "import LHCTools as ltools\n",
    "from LHCTools import LHC_FillingPattern\n",
    "\n",
    "import cl2pd\n",
    "from cl2pd import importData\n",
    "pd=importData.pd     #is the pandas package\n",
    "\n",
    "import numpy as np\n",
    "import matplotlib.pyplot as plt\n",
    "# %matplotlib notebook\n",
    "%matplotlib inline"
   ]
  },
  {
   "cell_type": "code",
   "execution_count": 2,
   "metadata": {},
   "outputs": [],
   "source": [
    "fno = 7334"
   ]
  },
  {
   "cell_type": "markdown",
   "metadata": {},
   "source": [
    "## LHC Filling Scheme info from LPC web"
   ]
  },
  {
   "cell_type": "code",
   "execution_count": 3,
   "metadata": {},
   "outputs": [
    {
     "name": "stdout",
     "output_type": "stream",
     "text": [
      "LHCTools - It works!\n"
     ]
    }
   ],
   "source": [
    "ltools.my_cool_test_method()"
   ]
  },
  {
   "cell_type": "code",
   "execution_count": 4,
   "metadata": {},
   "outputs": [
    {
     "name": "stdout",
     "output_type": "stream",
     "text": [
      ">>>>> LHC Filling pattern for fil 7334\n",
      "name ______________________________ 25ns_2556b_2544_2215_2332_144bpi_20injV3\n",
      "bunch spacing _____________________ 25\n",
      "bunches ___________________________ 2556\n",
      "bunches at IP1/5 __________________ 2544\n",
      "bunches at IP2 ____________________ 2215\n",
      "bunches at IP8 ____________________ 2332\n",
      "bunches per injection _____________ 144\n",
      "no of injections __________________ 20\n"
     ]
    }
   ],
   "source": [
    "lhcfpattern = LHC_FillingPattern.LHCFillingPattern(fno)\n",
    "lhcfpattern.info()"
   ]
  },
  {
   "cell_type": "code",
   "execution_count": 7,
   "metadata": {},
   "outputs": [
    {
     "data": {
      "text/html": [
       "<div>\n",
       "<style scoped>\n",
       "    .dataframe tbody tr th:only-of-type {\n",
       "        vertical-align: middle;\n",
       "    }\n",
       "\n",
       "    .dataframe tbody tr th {\n",
       "        vertical-align: top;\n",
       "    }\n",
       "\n",
       "    .dataframe thead th {\n",
       "        text-align: right;\n",
       "    }\n",
       "</style>\n",
       "<table border=\"1\" class=\"dataframe\">\n",
       "  <thead>\n",
       "    <tr style=\"text-align: right;\">\n",
       "      <th></th>\n",
       "      <th>LHC.BCTFR.A6R4.B1:BUNCH_FILL_PATTERN</th>\n",
       "      <th>LHC.BCTFR.A6R4.B2:BUNCH_FILL_PATTERN</th>\n",
       "      <th>fill</th>\n",
       "      <th>mode</th>\n",
       "      <th>nobunches_b1</th>\n",
       "      <th>nobunches_b2</th>\n",
       "      <th>fpatt_b1</th>\n",
       "      <th>fpatt_b2</th>\n",
       "      <th>bid_b1</th>\n",
       "      <th>bid_b2</th>\n",
       "    </tr>\n",
       "  </thead>\n",
       "  <tbody>\n",
       "    <tr>\n",
       "      <th>2018-10-23 14:36:56.848999977+00:00</th>\n",
       "      <td>[0.0, 0.0, 0.0, 0.0, 0.0, 0.0, 0.0, 0.0, 0.0, ...</td>\n",
       "      <td>[0.0, 0.0, 0.0, 0.0, 0.0, 0.0, 1.0, 1.0, 1.0, ...</td>\n",
       "      <td>7334</td>\n",
       "      <td>STABLE</td>\n",
       "      <td>2556.0</td>\n",
       "      <td>2556.0</td>\n",
       "      <td>[0.0, 0.0, 0.0, 0.0, 0.0, 0.0, 0.0, 0.0, 0.0, ...</td>\n",
       "      <td>[0.0, 0.0, 0.0, 0.0, 0.0, 0.0, 1.0, 1.0, 1.0, ...</td>\n",
       "      <td>[18, 19, 20, 21, 22, 23, 24, 25, 26, 27, 28, 2...</td>\n",
       "      <td>[6, 7, 8, 9, 10, 11, 12, 13, 14, 15, 16, 17, 6...</td>\n",
       "    </tr>\n",
       "  </tbody>\n",
       "</table>\n",
       "</div>"
      ],
      "text/plain": [
       "                                                  LHC.BCTFR.A6R4.B1:BUNCH_FILL_PATTERN  \\\n",
       "2018-10-23 14:36:56.848999977+00:00  [0.0, 0.0, 0.0, 0.0, 0.0, 0.0, 0.0, 0.0, 0.0, ...   \n",
       "\n",
       "                                                  LHC.BCTFR.A6R4.B2:BUNCH_FILL_PATTERN  \\\n",
       "2018-10-23 14:36:56.848999977+00:00  [0.0, 0.0, 0.0, 0.0, 0.0, 0.0, 1.0, 1.0, 1.0, ...   \n",
       "\n",
       "                                     fill    mode  nobunches_b1  nobunches_b2  \\\n",
       "2018-10-23 14:36:56.848999977+00:00  7334  STABLE        2556.0        2556.0   \n",
       "\n",
       "                                                                              fpatt_b1  \\\n",
       "2018-10-23 14:36:56.848999977+00:00  [0.0, 0.0, 0.0, 0.0, 0.0, 0.0, 0.0, 0.0, 0.0, ...   \n",
       "\n",
       "                                                                              fpatt_b2  \\\n",
       "2018-10-23 14:36:56.848999977+00:00  [0.0, 0.0, 0.0, 0.0, 0.0, 0.0, 1.0, 1.0, 1.0, ...   \n",
       "\n",
       "                                                                                bid_b1  \\\n",
       "2018-10-23 14:36:56.848999977+00:00  [18, 19, 20, 21, 22, 23, 24, 25, 26, 27, 28, 2...   \n",
       "\n",
       "                                                                                bid_b2  \n",
       "2018-10-23 14:36:56.848999977+00:00  [6, 7, 8, 9, 10, 11, 12, 13, 14, 15, 16, 17, 6...  "
      ]
     },
     "execution_count": 7,
     "metadata": {},
     "output_type": "execute_result"
    }
   ],
   "source": [
    "filledBunchesDF = lhcfpattern.setBunchPatternAtMode('STABLE', pd.Timedelta('0s'))\n",
    "filledBunchesDF.head()"
   ]
  },
  {
   "cell_type": "code",
   "execution_count": 8,
   "metadata": {},
   "outputs": [
    {
     "name": "stdout",
     "output_type": "stream",
     "text": [
      "Filled slots @ SB :  2556 2556\n",
      "Beam 1 :  [  18   19   20 ... 3410 3411 3412]\n",
      "Beam 2 :  [   6    7    8 ... 3410 3411 3412]\n"
     ]
    }
   ],
   "source": [
    "bid_b1 = filledBunchesDF['bid_b1'].values[0]\n",
    "bid_b2 = filledBunchesDF['bid_b2'].values[0]\n",
    "print ('Filled slots @ SB : ',len(bid_b1),len(bid_b2))\n",
    "print ('Beam 1 : ', bid_b1)\n",
    "print ('Beam 2 : ', bid_b2)"
   ]
  },
  {
   "cell_type": "code",
   "execution_count": 9,
   "metadata": {},
   "outputs": [
    {
     "name": "stdout",
     "output_type": "stream",
     "text": [
      "Filled slots @ SB : 2556.0 ,2556.0\n",
      "Beam 1 : [0. 0. 0. ... 0. 0. 0.]\n",
      "Beam 2 : [0. 0. 0. ... 0. 0. 0.]\n"
     ]
    }
   ],
   "source": [
    "bpat_b1 = filledBunchesDF['fpatt_b1'].values[0]\n",
    "bpat_b2 = filledBunchesDF['fpatt_b2'].values[0]\n",
    "print (f'Filled slots @ SB : {np.sum(bpat_b1)} ,{np.sum(bpat_b2)}')\n",
    "print (f'Beam 1 : {bpat_b1}')\n",
    "print (f'Beam 2 : {bpat_b2}')"
   ]
  },
  {
   "cell_type": "code",
   "execution_count": 10,
   "metadata": {},
   "outputs": [
    {
     "name": "stdout",
     "output_type": "stream",
     "text": [
      ">>> Bunch spacing:\n",
      " \t B1 : \n",
      " in Bxing: [1 1 1 ... 1 1 1] , \n",
      " in ns   : [25 25 25 ... 25 25 25] [ns] \n",
      " \t B2 : \n",
      " in Bxing: [1 1 1 ... 1 1 1] , \n",
      " in ns   : [25 25 25 ... 25 25 25] [ns] \n"
     ]
    }
   ],
   "source": [
    "print ('>>> Bunch spacing:')\n",
    "print (f''' \\t B1 : \\n in Bxing: {np.diff(bid_b1)} , \\n in ns   : {np.diff(bid_b1)*25} [ns] ''')\n",
    "print (f''' \\t B2 : \\n in Bxing: {np.diff(bid_b2)} , \\n in ns   : {np.diff(bid_b2)*25} [ns] ''')"
   ]
  },
  {
   "cell_type": "code",
   "execution_count": 12,
   "metadata": {},
   "outputs": [
    {
     "data": {
      "text/html": [
       "<div>\n",
       "<style scoped>\n",
       "    .dataframe tbody tr th:only-of-type {\n",
       "        vertical-align: middle;\n",
       "    }\n",
       "\n",
       "    .dataframe tbody tr th {\n",
       "        vertical-align: top;\n",
       "    }\n",
       "\n",
       "    .dataframe thead th {\n",
       "        text-align: right;\n",
       "    }\n",
       "</style>\n",
       "<table border=\"1\" class=\"dataframe\">\n",
       "  <thead>\n",
       "    <tr style=\"text-align: right;\">\n",
       "      <th></th>\n",
       "      <th>id</th>\n",
       "      <th>bid_first</th>\n",
       "      <th>bid_last</th>\n",
       "      <th>bids</th>\n",
       "      <th>nbunches</th>\n",
       "      <th>gap</th>\n",
       "      <th>beam</th>\n",
       "    </tr>\n",
       "  </thead>\n",
       "  <tbody>\n",
       "    <tr>\n",
       "      <th>0</th>\n",
       "      <td>0</td>\n",
       "      <td>18</td>\n",
       "      <td>29</td>\n",
       "      <td>[18, 19, 20, 21, 22, 23, 24, 25, 26, 27, 28, 29]</td>\n",
       "      <td>12</td>\n",
       "      <td>170</td>\n",
       "      <td>b1</td>\n",
       "    </tr>\n",
       "    <tr>\n",
       "      <th>1</th>\n",
       "      <td>1</td>\n",
       "      <td>61</td>\n",
       "      <td>108</td>\n",
       "      <td>[61, 62, 63, 64, 65, 66, 67, 68, 69, 70, 71, 7...</td>\n",
       "      <td>48</td>\n",
       "      <td>32</td>\n",
       "      <td>b1</td>\n",
       "    </tr>\n",
       "    <tr>\n",
       "      <th>2</th>\n",
       "      <td>2</td>\n",
       "      <td>116</td>\n",
       "      <td>163</td>\n",
       "      <td>[116, 117, 118, 119, 120, 121, 122, 123, 124, ...</td>\n",
       "      <td>48</td>\n",
       "      <td>8</td>\n",
       "      <td>b1</td>\n",
       "    </tr>\n",
       "    <tr>\n",
       "      <th>3</th>\n",
       "      <td>3</td>\n",
       "      <td>195</td>\n",
       "      <td>242</td>\n",
       "      <td>[195, 196, 197, 198, 199, 200, 201, 202, 203, ...</td>\n",
       "      <td>48</td>\n",
       "      <td>32</td>\n",
       "      <td>b1</td>\n",
       "    </tr>\n",
       "    <tr>\n",
       "      <th>4</th>\n",
       "      <td>4</td>\n",
       "      <td>250</td>\n",
       "      <td>297</td>\n",
       "      <td>[250, 251, 252, 253, 254, 255, 256, 257, 258, ...</td>\n",
       "      <td>48</td>\n",
       "      <td>8</td>\n",
       "      <td>b1</td>\n",
       "    </tr>\n",
       "  </tbody>\n",
       "</table>\n",
       "</div>"
      ],
      "text/plain": [
       "   id  bid_first  bid_last                                               bids  \\\n",
       "0   0         18        29   [18, 19, 20, 21, 22, 23, 24, 25, 26, 27, 28, 29]   \n",
       "1   1         61       108  [61, 62, 63, 64, 65, 66, 67, 68, 69, 70, 71, 7...   \n",
       "2   2        116       163  [116, 117, 118, 119, 120, 121, 122, 123, 124, ...   \n",
       "3   3        195       242  [195, 196, 197, 198, 199, 200, 201, 202, 203, ...   \n",
       "4   4        250       297  [250, 251, 252, 253, 254, 255, 256, 257, 258, ...   \n",
       "\n",
       "   nbunches  gap beam  \n",
       "0        12  170   b1  \n",
       "1        48   32   b1  \n",
       "2        48    8   b1  \n",
       "3        48   32   b1  \n",
       "4        48    8   b1  "
      ]
     },
     "execution_count": 12,
     "metadata": {},
     "output_type": "execute_result"
    }
   ],
   "source": [
    "bunchTrainsDF = lhcfpattern.setBunchTrains()\n",
    "bunchTrainsDF.head()"
   ]
  },
  {
   "cell_type": "markdown",
   "metadata": {},
   "source": [
    "## Get the long range encounters at all IPs"
   ]
  },
  {
   "cell_type": "code",
   "execution_count": 13,
   "metadata": {},
   "outputs": [
    {
     "name": "stdout",
     "output_type": "stream",
     "text": [
      " Bunch spacing b_h_dist =  3.740022895622896  [m]\n",
      " Max No possible nominal LL encounters :  38 \n"
     ]
    }
   ],
   "source": [
    "# -- TAN position: S_start = 140.25m, S_middle = 142.75m, S_end = 144.5m\n",
    "HRF400 = 35640\n",
    "LHCLENGTH  = 26658.8832\n",
    "b_t_dist = 25\n",
    "b_h_dist = LHCLENGTH/HRF400 * 10./2. * b_t_dist / 25.;\n",
    "print (' Bunch spacing b_h_dist = ', b_h_dist, ' [m]')\n",
    "S_TAN_end = 144.5\n",
    "nmax = int(S_TAN_end/b_h_dist)\n",
    "print (' Max No possible nominal LL encounters : ',nmax, '')"
   ]
  },
  {
   "cell_type": "code",
   "execution_count": null,
   "metadata": {},
   "outputs": [],
   "source": [
    "lrencountersDF = fpattern.setLongRangeEncounters(nmax)"
   ]
  },
  {
   "cell_type": "code",
   "execution_count": null,
   "metadata": {},
   "outputs": [],
   "source": [
    "lrencountersDF.head()"
   ]
  },
  {
   "cell_type": "markdown",
   "metadata": {},
   "source": [
    "## Do some plots"
   ]
  },
  {
   "cell_type": "code",
   "execution_count": null,
   "metadata": {},
   "outputs": [],
   "source": [
    "fig, ax = plt.subplots(1,1, figsize=(15,8))\n",
    "_tmp = lrencountersDF[lrencountersDF['beam']=='b1'][['bid','hoip1','hoip8','hoip2']].copy()\n",
    "_tmp['hoip1s'] = _tmp['hoip1']*1.000\n",
    "_tmp['hoip2s'] = _tmp['hoip2']*0.999\n",
    "_tmp['hoip8s'] = _tmp['hoip8']*0.998\n",
    "_tmp.plot(x='bid',y='hoip1s', label='B1 - hoIP1', marker='o', style='o', ax=ax)\n",
    "_tmp.plot(x='bid',y='hoip8s', label='B1 - hoIP8', marker='v', style='o', ax=ax)\n",
    "_tmp.plot(x='bid',y='hoip2s', label='B1 - hoIP2', marker='<', style='o', ax=ax)\n",
    "\n",
    "_tmp = lrencountersDF[lrencountersDF['beam']=='b2'][['bid','hoip1','hoip8','hoip2']].copy()\n",
    "_tmp['hoip1s'] = _tmp['hoip1']*0.995\n",
    "_tmp['hoip2s'] = _tmp['hoip2']*0.994\n",
    "_tmp['hoip8s'] = _tmp['hoip8']*0.993\n",
    "_tmp.plot(x='bid',y='hoip1s', label='B2 - hoIP1', marker='o', fillstyle='none', style='o', ax=ax)\n",
    "_tmp.plot(x='bid',y='hoip8s', label='B2 - hoIP8', marker='v', fillstyle='none', style='o', ax=ax)\n",
    "_tmp.plot(x='bid',y='hoip2s', label='B2 - hoIP2', marker='<', fillstyle='none', style='o', ax=ax)\n",
    "\n",
    "plt.ylim(0.99,1.005)\n",
    "plt.xlabel('Bunch ID [BID]')\n",
    "plt.ylabel('HO collisions')\n",
    "plt.title('LHC data : HO Collisions per BID - fill {}'.format(fno))\n",
    "plt.legend()"
   ]
  },
  {
   "cell_type": "code",
   "execution_count": null,
   "metadata": {},
   "outputs": [],
   "source": [
    "fig, ax = plt.subplots(1,1, figsize=(15,8))\n",
    "\n",
    "lrencountersDF[lrencountersDF['beam']=='b1'].plot(x='bid', y='lrip1enc_no', label='B1 - lrIP1', marker='o', style='-', ax=ax)\n",
    "lrencountersDF[lrencountersDF['beam']=='b1'].plot(x='bid', y='lrip2enc_no', label='B1 - lrIP2', marker='v', style='-', ax=ax)\n",
    "lrencountersDF[lrencountersDF['beam']=='b1'].plot(x='bid', y='lrip5enc_no', label='B1 - lrIP5', marker='<', style='-', ax=ax)\n",
    "lrencountersDF[lrencountersDF['beam']=='b1'].plot(x='bid', y='lrip8enc_no', label='B1 - lrIP8', marker='^', style='-', ax=ax)\n",
    "\n",
    "# plt.ylim(0.99,1.005)\n",
    "plt.xlabel('Bunch ID [BID]')\n",
    "plt.ylabel('HO collisions')\n",
    "plt.title('LHC data : LR Collisions per BID - fill {}'.format(fno))\n",
    "plt.legend()"
   ]
  },
  {
   "cell_type": "code",
   "execution_count": null,
   "metadata": {},
   "outputs": [],
   "source": [
    "fig, ax = plt.subplots(1,1, figsize=(15,8))\n",
    "dflist = {}\n",
    "dflist['ipslot'] = np.concatenate(((np.arange(1,nmax)*-1)[::-1], np.arange(1,nmax)))\n",
    "for ip in ['ip1', 'ip2', 'ip5', 'ip8']:\n",
    "    lrs = lrencountersDF[(lrencountersDF['beam']=='b1') & (lrencountersDF['hoip1']==1)]['lr'+ip+'enc'].values\n",
    "    lrtot = sum(lrs)\n",
    "    dflist['lr'+ip] = lrtot\n",
    "width = 0.8\n",
    "p1 = plt.bar(dflist['ipslot'], dflist['lrip1'], width,)\n",
    "p2 = plt.bar(dflist['ipslot'], dflist['lrip2'], width, bottom=dflist['lrip1'])\n",
    "p3 = plt.bar(dflist['ipslot'], dflist['lrip5'], width, bottom=dflist['lrip1']+dflist['lrip2'])\n",
    "p4 = plt.bar(dflist['ipslot'], dflist['lrip8'], width, bottom=dflist['lrip1']+dflist['lrip2']+dflist['lrip5'])\n",
    "\n",
    "plt.ylabel('Long-range encounters')\n",
    "plt.xlabel('Bxsing from IP')\n",
    "plt.title('LHC - Long-range encounters per IP for bunches colliding at IP1/IP5'.format(fno))\n",
    "plt.legend((p1[0], p2[0], p3[0],p4[0]), ('IP1', 'IP2','IP5','IP8'))\n",
    "plt.grid()\n",
    "plt.show()"
   ]
  }
 ],
 "metadata": {
  "kernelspec": {
   "display_name": "Python 3",
   "language": "python",
   "name": "python3"
  },
  "language_info": {
   "codemirror_mode": {
    "name": "ipython",
    "version": 3
   },
   "file_extension": ".py",
   "mimetype": "text/x-python",
   "name": "python",
   "nbconvert_exporter": "python",
   "pygments_lexer": "ipython3",
   "version": "3.6.5"
  },
  "toc": {
   "base_numbering": 1,
   "nav_menu": {},
   "number_sections": true,
   "sideBar": true,
   "skip_h1_title": false,
   "title_cell": "Table of Contents",
   "title_sidebar": "Contents",
   "toc_cell": false,
   "toc_position": {},
   "toc_section_display": true,
   "toc_window_display": false
  }
 },
 "nbformat": 4,
 "nbformat_minor": 4
}
