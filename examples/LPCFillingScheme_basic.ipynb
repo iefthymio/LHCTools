{
 "cells": [
  {
   "cell_type": "markdown",
   "metadata": {},
   "source": [
    "# LHC Filling Scheme from LPC data\n",
    "\n",
    "Info on the filling scheme for a fill\n",
    "- get filling scheme from LPC web page\n",
    "- decode filling scheme with various functions\n",
    "- do some plots"
   ]
  },
  {
   "cell_type": "code",
   "execution_count": 1,
   "metadata": {},
   "outputs": [],
   "source": [
    "import LHCTools as ltools\n",
    "from LHCTools import LPC_FillingScheme\n",
    "\n",
    "import numpy as np\n",
    "import matplotlib.pyplot as plt\n",
    "import pandas as pd\n",
    "# %matplotlib notebook\n",
    "%matplotlib inline"
   ]
  },
  {
   "cell_type": "code",
   "execution_count": 2,
   "metadata": {},
   "outputs": [],
   "source": [
    "fno = 7334"
   ]
  },
  {
   "cell_type": "markdown",
   "metadata": {},
   "source": [
    "## LHC Filling Scheme info from LPC web"
   ]
  },
  {
   "cell_type": "code",
   "execution_count": 3,
   "metadata": {},
   "outputs": [
    {
     "name": "stdout",
     "output_type": "stream",
     "text": [
      "LHCTools - It works!\n"
     ]
    }
   ],
   "source": [
    "ltools.my_cool_test_method()"
   ]
  },
  {
   "cell_type": "code",
   "execution_count": 4,
   "metadata": {},
   "outputs": [],
   "source": [
    "lpcfscheme = LPC_FillingScheme.LPCFillingScheme(fno)"
   ]
  },
  {
   "cell_type": "code",
   "execution_count": 5,
   "metadata": {},
   "outputs": [
    {
     "data": {
      "text/html": [
       "<div>\n",
       "<style scoped>\n",
       "    .dataframe tbody tr th:only-of-type {\n",
       "        vertical-align: middle;\n",
       "    }\n",
       "\n",
       "    .dataframe tbody tr th {\n",
       "        vertical-align: top;\n",
       "    }\n",
       "\n",
       "    .dataframe thead th {\n",
       "        text-align: right;\n",
       "    }\n",
       "</style>\n",
       "<table border=\"1\" class=\"dataframe\">\n",
       "  <thead>\n",
       "    <tr style=\"text-align: right;\">\n",
       "      <th></th>\n",
       "      <th>inj Nbr</th>\n",
       "      <th>Ring</th>\n",
       "      <th>RF Bucket</th>\n",
       "      <th>Bu Spac (ns)</th>\n",
       "      <th>bu per PS batch</th>\n",
       "      <th>SPS Batch spac</th>\n",
       "      <th>PSbatch nbr</th>\n",
       "    </tr>\n",
       "    <tr>\n",
       "      <th>idx</th>\n",
       "      <th></th>\n",
       "      <th></th>\n",
       "      <th></th>\n",
       "      <th></th>\n",
       "      <th></th>\n",
       "      <th></th>\n",
       "      <th></th>\n",
       "    </tr>\n",
       "  </thead>\n",
       "  <tbody>\n",
       "    <tr>\n",
       "      <th>1</th>\n",
       "      <td>1</td>\n",
       "      <td>ring_2</td>\n",
       "      <td>61</td>\n",
       "      <td>25</td>\n",
       "      <td>12</td>\n",
       "      <td>0</td>\n",
       "      <td>1</td>\n",
       "    </tr>\n",
       "    <tr>\n",
       "      <th>2</th>\n",
       "      <td>1</td>\n",
       "      <td>ring_1</td>\n",
       "      <td>181</td>\n",
       "      <td>25</td>\n",
       "      <td>12</td>\n",
       "      <td>0</td>\n",
       "      <td>1</td>\n",
       "    </tr>\n",
       "    <tr>\n",
       "      <th>3</th>\n",
       "      <td>2</td>\n",
       "      <td>ring_1</td>\n",
       "      <td>611</td>\n",
       "      <td>25</td>\n",
       "      <td>48</td>\n",
       "      <td>1375</td>\n",
       "      <td>2</td>\n",
       "    </tr>\n",
       "    <tr>\n",
       "      <th>4</th>\n",
       "      <td>2</td>\n",
       "      <td>ring_2</td>\n",
       "      <td>611</td>\n",
       "      <td>25</td>\n",
       "      <td>48</td>\n",
       "      <td>1375</td>\n",
       "      <td>2</td>\n",
       "    </tr>\n",
       "    <tr>\n",
       "      <th>5</th>\n",
       "      <td>3</td>\n",
       "      <td>ring_1</td>\n",
       "      <td>1951</td>\n",
       "      <td>25</td>\n",
       "      <td>48</td>\n",
       "      <td>1375</td>\n",
       "      <td>3</td>\n",
       "    </tr>\n",
       "  </tbody>\n",
       "</table>\n",
       "</div>"
      ],
      "text/plain": [
       "     inj Nbr    Ring  RF Bucket  Bu Spac (ns)  bu per PS batch  \\\n",
       "idx                                                              \n",
       "1          1  ring_2         61            25               12   \n",
       "2          1  ring_1        181            25               12   \n",
       "3          2  ring_1        611            25               48   \n",
       "4          2  ring_2        611            25               48   \n",
       "5          3  ring_1       1951            25               48   \n",
       "\n",
       "     SPS Batch spac  PSbatch nbr  \n",
       "idx                               \n",
       "1                 0            1  \n",
       "2                 0            1  \n",
       "3              1375            2  \n",
       "4              1375            2  \n",
       "5              1375            3  "
      ]
     },
     "execution_count": 5,
     "metadata": {},
     "output_type": "execute_result"
    }
   ],
   "source": [
    "injSchemeDF = lpcfscheme.injectionsDF\n",
    "injSchemeDF.head()"
   ]
  },
  {
   "cell_type": "code",
   "execution_count": 6,
   "metadata": {},
   "outputs": [
    {
     "ename": "AttributeError",
     "evalue": "'LPCFillingScheme' object has no attribute 'fsprint'",
     "output_type": "error",
     "traceback": [
      "\u001b[0;31m---------------------------------------------------------------------------\u001b[0m",
      "\u001b[0;31mAttributeError\u001b[0m                            Traceback (most recent call last)",
      "\u001b[0;32m<ipython-input-6-db102b066894>\u001b[0m in \u001b[0;36m<module>\u001b[0;34m()\u001b[0m\n\u001b[0;32m----> 1\u001b[0;31m \u001b[0mlpcfscheme\u001b[0m\u001b[0;34m.\u001b[0m\u001b[0mfsprint\u001b[0m\u001b[0;34m(\u001b[0m\u001b[0;34m)\u001b[0m\u001b[0;34m\u001b[0m\u001b[0m\n\u001b[0m",
      "\u001b[0;31mAttributeError\u001b[0m: 'LPCFillingScheme' object has no attribute 'fsprint'"
     ]
    }
   ],
   "source": [
    "lpcfscheme.info()"
   ]
  },
  {
   "cell_type": "code",
   "execution_count": null,
   "metadata": {},
   "outputs": [],
   "source": [
    "lrcolldf = lpcfscheme.longrangeDF\n",
    "lrcolldf.head()"
   ]
  },
  {
   "cell_type": "code",
   "execution_count": null,
   "metadata": {},
   "outputs": [],
   "source": [
    "lrcollbeam = lpcfscheme.lrbeamDF\n",
    "lrcollbeam[lrcollbeam['beam'] == 'B1'].head()"
   ]
  },
  {
   "cell_type": "code",
   "execution_count": null,
   "metadata": {},
   "outputs": [],
   "source": [
    "hobeam = lpcfscheme.hobeamDF\n",
    "hobeam[hobeam['beam'] == 'B2'].head()"
   ]
  },
  {
   "cell_type": "markdown",
   "metadata": {},
   "source": [
    "## Do some plots"
   ]
  },
  {
   "cell_type": "code",
   "execution_count": null,
   "metadata": {},
   "outputs": [],
   "source": [
    "fig, ax = plt.subplots(1,1, figsize=(15,8))\n",
    "\n",
    "_tmp0 = lpcfscheme.lrbeamDF[['beam','Slot','Head-On IP1','Head-On IP2','Head-On IP8']].copy()\n",
    "\n",
    "_tmp = _tmp0[_tmp0['beam'] == 'B1'].copy()\n",
    "_tmp['hoip1s'] = _tmp['Head-On IP1']*1.000\n",
    "_tmp['hoip2s'] = _tmp['Head-On IP2']*0.999\n",
    "_tmp['hoip8s'] = _tmp['Head-On IP8']*0.998\n",
    "_tmp.plot(x='Slot',y='hoip1s', label='B1 - hoIP1', marker='o', style='o', ax=ax)\n",
    "_tmp.plot(x='Slot',y='hoip8s', label='B1 - hoIP8', marker='v', style='o', ax=ax)\n",
    "_tmp.plot(x='Slot',y='hoip2s', label='B1 - hoIP2', marker='<', style='o', ax=ax)\n",
    "\n",
    "_tmp = _tmp0[_tmp0['beam'] == 'B2'].copy()\n",
    "_tmp['hoip1s'] = _tmp['Head-On IP1']*0.995\n",
    "_tmp['hoip2s'] = _tmp['Head-On IP2']*0.994\n",
    "_tmp['hoip8s'] = _tmp['Head-On IP8']*0.993\n",
    "_tmp.plot(x='Slot',y='hoip1s', label='B2 - hoIP1', marker='o', fillstyle='none', style='o', ax=ax)\n",
    "_tmp.plot(x='Slot',y='hoip8s', label='B2 - hoIP8', marker='v', fillstyle='none', style='o', ax=ax)\n",
    "_tmp.plot(x='Slot',y='hoip2s', label='B2 - hoIP2', marker='<', fillstyle='none', style='o', ax=ax)\n",
    "\n",
    "plt.ylim(0.99,1.005)\n",
    "plt.xlabel('Bunch ID [BID]')\n",
    "plt.ylabel('HO collisions')\n",
    "plt.title('LPC data : HO Collisions per BID - fill {}'.format(fno))\n",
    "plt.legend()"
   ]
  },
  {
   "cell_type": "code",
   "execution_count": null,
   "metadata": {},
   "outputs": [],
   "source": [
    "fig, ax = plt.subplots(1,1, figsize=(15,8))\n",
    "_tmp = lpcfscheme.lrbeamDF[lpcfscheme.lrbeamDF['beam']== 'B1']\n",
    "_tmp.plot(x='Slot', y='LR IP1', label='B1 - lrIP1', marker='o', style='-', ax=ax)\n",
    "_tmp.plot(x='Slot', y='LR IP2', label='B1 - lrIP2', marker='v', style='-', ax=ax)\n",
    "_tmp.plot(x='Slot', y='LR IP5', label='B1 - lrIP5', marker='<', style='-', ax=ax)\n",
    "_tmp.plot(x='Slot', y='LR IP8', label='B1 - lrIP8', marker='^', style='-', ax=ax)\n",
    "\n",
    "# plt.ylim(0.99,1.005)\n",
    "plt.xlabel('Bunch ID [BID]')\n",
    "plt.ylabel('HO collisions')\n",
    "plt.title('LPC data : LR Collisions per BID - fill {}'.format(fno))\n",
    "plt.legend()"
   ]
  },
  {
   "cell_type": "code",
   "execution_count": null,
   "metadata": {},
   "outputs": [],
   "source": [
    "_tmp = lpcfscheme.lrbeamDF\n",
    "_tmp[(_tmp['Head-On IP1'] == 1) & (_tmp['beam'] == 'B1')].shape\n",
    "rfbuck_coll_ip1 = _tmp[(_tmp['Head-On IP1'] == 1) & (_tmp['beam'] == 'B1')]['RFbucket'].values\n",
    "rfbuck_coll_ip1"
   ]
  },
  {
   "cell_type": "code",
   "execution_count": null,
   "metadata": {},
   "outputs": [],
   "source": [
    "_tmp = lpcfscheme.longrangeDF\n",
    "lrdf = _tmp[_tmp['RFbucketbeam1'].isin(rfbuck_coll_ip1)]\n",
    "xx = lrdf.groupby(['ip','z-pos/m']).count()\n",
    "xx.head()"
   ]
  },
  {
   "cell_type": "code",
   "execution_count": null,
   "metadata": {},
   "outputs": [],
   "source": [
    "fig, ax = plt.subplots(1,1, figsize=(15,8))\n",
    "lrdf.groupby(['z-pos/m','ip']).count()['RFbucketbeam1'].unstack().plot(marker='o',ax=ax)\n",
    "plt.ylabel('Long-range encounters')\n",
    "plt.xlabel('Distance from IP [m]')\n",
    "plt.title('LPC - Long-range encounters per IP for bunches colliding at IP1/IP5'.format(fno))\n",
    "plt.grid()\n",
    "plt.show()"
   ]
  }
 ],
 "metadata": {
  "kernelspec": {
   "display_name": "Python 3",
   "language": "python",
   "name": "python3"
  },
  "language_info": {
   "codemirror_mode": {
    "name": "ipython",
    "version": 3
   },
   "file_extension": ".py",
   "mimetype": "text/x-python",
   "name": "python",
   "nbconvert_exporter": "python",
   "pygments_lexer": "ipython3",
   "version": "3.6.5"
  },
  "toc": {
   "base_numbering": 1,
   "nav_menu": {},
   "number_sections": true,
   "sideBar": true,
   "skip_h1_title": false,
   "title_cell": "Table of Contents",
   "title_sidebar": "Contents",
   "toc_cell": false,
   "toc_position": {},
   "toc_section_display": true,
   "toc_window_display": false
  }
 },
 "nbformat": 4,
 "nbformat_minor": 4
}
