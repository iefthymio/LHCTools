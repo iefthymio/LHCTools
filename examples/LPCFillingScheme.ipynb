{
 "cells": [
  {
   "cell_type": "markdown",
   "metadata": {},
   "source": [
    "# LHC Filling Scheme from LPC data\n",
    "\n",
    "Info on the filling scheme for a fill\n",
    "- get filling scheme from LPC web page\n",
    "- decode filling scheme with various functions\n",
    "- do some plots"
   ]
  },
  {
   "cell_type": "code",
   "execution_count": 1,
   "metadata": {},
   "outputs": [],
   "source": [
    "import LHCTools as ltools\n",
    "from LHCTools import LPC_FillingScheme\n",
    "\n",
    "import numpy as np\n",
    "import matplotlib.pyplot as plt\n",
    "import pandas as pd\n",
    "# %matplotlib notebook\n",
    "%matplotlib inline"
   ]
  },
  {
   "cell_type": "code",
   "execution_count": 2,
   "metadata": {},
   "outputs": [],
   "source": [
    "fno = 6868"
   ]
  },
  {
   "cell_type": "markdown",
   "metadata": {},
   "source": [
    "## LHC Filling Scheme info from LPC web"
   ]
  },
  {
   "cell_type": "code",
   "execution_count": 29,
   "metadata": {},
   "outputs": [
    {
     "name": "stdout",
     "output_type": "stream",
     "text": [
      "LHCTools - It works!\n"
     ]
    }
   ],
   "source": [
    "ltools.my_cool_test_method()"
   ]
  },
  {
   "cell_type": "code",
   "execution_count": 3,
   "metadata": {},
   "outputs": [],
   "source": [
    "lpcfscheme = LPC_FillingScheme.LPCFillingScheme(fno)"
   ]
  },
  {
   "cell_type": "code",
   "execution_count": 4,
   "metadata": {},
   "outputs": [
    {
     "data": {
      "text/html": [
       "<div>\n",
       "<style scoped>\n",
       "    .dataframe tbody tr th:only-of-type {\n",
       "        vertical-align: middle;\n",
       "    }\n",
       "\n",
       "    .dataframe tbody tr th {\n",
       "        vertical-align: top;\n",
       "    }\n",
       "\n",
       "    .dataframe thead th {\n",
       "        text-align: right;\n",
       "    }\n",
       "</style>\n",
       "<table border=\"1\" class=\"dataframe\">\n",
       "  <thead>\n",
       "    <tr style=\"text-align: right;\">\n",
       "      <th></th>\n",
       "      <th>inj Nbr</th>\n",
       "      <th>Ring</th>\n",
       "      <th>RF Bucket</th>\n",
       "      <th>Bu Spac (ns)</th>\n",
       "      <th>bu per PS batch</th>\n",
       "      <th>SPS Batch spac</th>\n",
       "      <th>PSbatch nbr</th>\n",
       "    </tr>\n",
       "    <tr>\n",
       "      <th>idx</th>\n",
       "      <th></th>\n",
       "      <th></th>\n",
       "      <th></th>\n",
       "      <th></th>\n",
       "      <th></th>\n",
       "      <th></th>\n",
       "      <th></th>\n",
       "    </tr>\n",
       "  </thead>\n",
       "  <tbody>\n",
       "    <tr>\n",
       "      <th>1</th>\n",
       "      <td>1</td>\n",
       "      <td>ring_1</td>\n",
       "      <td>121</td>\n",
       "      <td>525</td>\n",
       "      <td>4</td>\n",
       "      <td>2100</td>\n",
       "      <td>4</td>\n",
       "    </tr>\n",
       "    <tr>\n",
       "      <th>2</th>\n",
       "      <td>1</td>\n",
       "      <td>ring_2</td>\n",
       "      <td>121</td>\n",
       "      <td>525</td>\n",
       "      <td>4</td>\n",
       "      <td>2100</td>\n",
       "      <td>4</td>\n",
       "    </tr>\n",
       "    <tr>\n",
       "      <th>3</th>\n",
       "      <td>2</td>\n",
       "      <td>ring_1</td>\n",
       "      <td>3621</td>\n",
       "      <td>525</td>\n",
       "      <td>4</td>\n",
       "      <td>2100</td>\n",
       "      <td>2</td>\n",
       "    </tr>\n",
       "    <tr>\n",
       "      <th>4</th>\n",
       "      <td>2</td>\n",
       "      <td>ring_2</td>\n",
       "      <td>5381</td>\n",
       "      <td>525</td>\n",
       "      <td>4</td>\n",
       "      <td>2100</td>\n",
       "      <td>2</td>\n",
       "    </tr>\n",
       "    <tr>\n",
       "      <th>5</th>\n",
       "      <td>3</td>\n",
       "      <td>ring_1</td>\n",
       "      <td>7171</td>\n",
       "      <td>525</td>\n",
       "      <td>4</td>\n",
       "      <td>2100</td>\n",
       "      <td>2</td>\n",
       "    </tr>\n",
       "  </tbody>\n",
       "</table>\n",
       "</div>"
      ],
      "text/plain": [
       "     inj Nbr    Ring  RF Bucket  Bu Spac (ns)  bu per PS batch  \\\n",
       "idx                                                              \n",
       "1          1  ring_1        121           525                4   \n",
       "2          1  ring_2        121           525                4   \n",
       "3          2  ring_1       3621           525                4   \n",
       "4          2  ring_2       5381           525                4   \n",
       "5          3  ring_1       7171           525                4   \n",
       "\n",
       "     SPS Batch spac  PSbatch nbr  \n",
       "idx                               \n",
       "1              2100            4  \n",
       "2              2100            4  \n",
       "3              2100            2  \n",
       "4              2100            2  \n",
       "5              2100            2  "
      ]
     },
     "execution_count": 4,
     "metadata": {},
     "output_type": "execute_result"
    }
   ],
   "source": [
    "injSchemeDF = lpcfscheme.injectionsDF\n",
    "injSchemeDF.head()"
   ]
  },
  {
   "cell_type": "code",
   "execution_count": 7,
   "metadata": {},
   "outputs": [
    {
     "name": "stdout",
     "output_type": "stream",
     "text": [
      ">>>>> LPC Filling scheme for fil 6868\n",
      "name ______________________________ 525ns_140b_124_32_23_16bpi_11inj\n",
      "csv blocs _________________________ 14\n",
      "injections (both beams) ___________ 22\n",
      "bunches ___________________________ {'B1': {'probe': 0, 'Nominal': 140}, 'B2': {'probe': 0, 'Nominal': 140}}\n",
      "collisions ________________________ \n",
      "  Tot number of B1 injections _____ 11\n",
      "  Tot number of B2 injections _____ 11\n",
      "  Collisions at IP1&5______________ 124\n",
      "  B1-empty at IP1&5________________ 16\n",
      "  B2-empty at IP1&5________________ 16\n",
      "  Empty-empty at IP1&5_____________ 3408\n",
      "  Collisions at IP2________________ 32\n",
      "  B1-empty at IP2__________________ 108\n",
      "  B2-empty at IP2__________________ 108\n",
      "  Empty-empty at IP2_______________ 3316\n",
      "  Collisions at IP8________________ 23\n",
      "  B1-empty at IP8__________________ 117\n",
      "  B2-empty at IP8__________________ 117\n",
      "  Empty-empty at IP8_______________ 3307\n",
      "long ranges (2 beams, all IPs) ____ 630\n",
      "long ranges (2 beams) _____________ 280\n",
      "head on (2 beams) _________________ 280\n"
     ]
    }
   ],
   "source": [
    "lpcfscheme.fsprint()"
   ]
  },
  {
   "cell_type": "code",
   "execution_count": 14,
   "metadata": {},
   "outputs": [
    {
     "data": {
      "text/html": [
       "<div>\n",
       "<style scoped>\n",
       "    .dataframe tbody tr th:only-of-type {\n",
       "        vertical-align: middle;\n",
       "    }\n",
       "\n",
       "    .dataframe tbody tr th {\n",
       "        vertical-align: top;\n",
       "    }\n",
       "\n",
       "    .dataframe thead th {\n",
       "        text-align: right;\n",
       "    }\n",
       "</style>\n",
       "<table border=\"1\" class=\"dataframe\">\n",
       "  <thead>\n",
       "    <tr style=\"text-align: right;\">\n",
       "      <th></th>\n",
       "      <th>RFbucketbeam1</th>\n",
       "      <th>RFbucketbeam2</th>\n",
       "      <th>z-pos/m</th>\n",
       "      <th>ip</th>\n",
       "    </tr>\n",
       "  </thead>\n",
       "  <tbody>\n",
       "    <tr>\n",
       "      <th>0</th>\n",
       "      <td>121</td>\n",
       "      <td>121</td>\n",
       "      <td>0.0</td>\n",
       "      <td>IP1</td>\n",
       "    </tr>\n",
       "    <tr>\n",
       "      <th>1</th>\n",
       "      <td>331</td>\n",
       "      <td>331</td>\n",
       "      <td>0.0</td>\n",
       "      <td>IP1</td>\n",
       "    </tr>\n",
       "    <tr>\n",
       "      <th>2</th>\n",
       "      <td>541</td>\n",
       "      <td>541</td>\n",
       "      <td>0.0</td>\n",
       "      <td>IP1</td>\n",
       "    </tr>\n",
       "    <tr>\n",
       "      <th>3</th>\n",
       "      <td>751</td>\n",
       "      <td>751</td>\n",
       "      <td>0.0</td>\n",
       "      <td>IP1</td>\n",
       "    </tr>\n",
       "    <tr>\n",
       "      <th>4</th>\n",
       "      <td>961</td>\n",
       "      <td>961</td>\n",
       "      <td>0.0</td>\n",
       "      <td>IP1</td>\n",
       "    </tr>\n",
       "  </tbody>\n",
       "</table>\n",
       "</div>"
      ],
      "text/plain": [
       "   RFbucketbeam1  RFbucketbeam2  z-pos/m   ip\n",
       "0            121            121      0.0  IP1\n",
       "1            331            331      0.0  IP1\n",
       "2            541            541      0.0  IP1\n",
       "3            751            751      0.0  IP1\n",
       "4            961            961      0.0  IP1"
      ]
     },
     "execution_count": 14,
     "metadata": {},
     "output_type": "execute_result"
    }
   ],
   "source": [
    "lrcolldf = lpcfscheme.longrangeDF\n",
    "lrcolldf.head()"
   ]
  },
  {
   "cell_type": "code",
   "execution_count": 15,
   "metadata": {},
   "outputs": [
    {
     "data": {
      "text/html": [
       "<div>\n",
       "<style scoped>\n",
       "    .dataframe tbody tr th:only-of-type {\n",
       "        vertical-align: middle;\n",
       "    }\n",
       "\n",
       "    .dataframe tbody tr th {\n",
       "        vertical-align: top;\n",
       "    }\n",
       "\n",
       "    .dataframe thead th {\n",
       "        text-align: right;\n",
       "    }\n",
       "</style>\n",
       "<table border=\"1\" class=\"dataframe\">\n",
       "  <thead>\n",
       "    <tr style=\"text-align: right;\">\n",
       "      <th></th>\n",
       "      <th>RFbucket</th>\n",
       "      <th>Slot</th>\n",
       "      <th>Head-On IP1</th>\n",
       "      <th>Head-On IP2</th>\n",
       "      <th>Head-On IP5</th>\n",
       "      <th>Head-On IP8</th>\n",
       "      <th>Head-On Tot</th>\n",
       "      <th>LR IP1</th>\n",
       "      <th>LR IP2</th>\n",
       "      <th>LR IP5</th>\n",
       "      <th>LR IP8</th>\n",
       "      <th>LR Tot</th>\n",
       "      <th>beam</th>\n",
       "    </tr>\n",
       "  </thead>\n",
       "  <tbody>\n",
       "    <tr>\n",
       "      <th>0</th>\n",
       "      <td>121</td>\n",
       "      <td>12</td>\n",
       "      <td>1</td>\n",
       "      <td>0</td>\n",
       "      <td>1</td>\n",
       "      <td>0</td>\n",
       "      <td>2</td>\n",
       "      <td>0</td>\n",
       "      <td>2</td>\n",
       "      <td>0</td>\n",
       "      <td>0</td>\n",
       "      <td>2</td>\n",
       "      <td>B1</td>\n",
       "    </tr>\n",
       "    <tr>\n",
       "      <th>1</th>\n",
       "      <td>331</td>\n",
       "      <td>33</td>\n",
       "      <td>1</td>\n",
       "      <td>0</td>\n",
       "      <td>1</td>\n",
       "      <td>0</td>\n",
       "      <td>2</td>\n",
       "      <td>0</td>\n",
       "      <td>2</td>\n",
       "      <td>0</td>\n",
       "      <td>0</td>\n",
       "      <td>2</td>\n",
       "      <td>B1</td>\n",
       "    </tr>\n",
       "    <tr>\n",
       "      <th>2</th>\n",
       "      <td>541</td>\n",
       "      <td>54</td>\n",
       "      <td>1</td>\n",
       "      <td>0</td>\n",
       "      <td>1</td>\n",
       "      <td>0</td>\n",
       "      <td>2</td>\n",
       "      <td>0</td>\n",
       "      <td>2</td>\n",
       "      <td>0</td>\n",
       "      <td>0</td>\n",
       "      <td>2</td>\n",
       "      <td>B1</td>\n",
       "    </tr>\n",
       "    <tr>\n",
       "      <th>3</th>\n",
       "      <td>751</td>\n",
       "      <td>75</td>\n",
       "      <td>1</td>\n",
       "      <td>0</td>\n",
       "      <td>1</td>\n",
       "      <td>0</td>\n",
       "      <td>2</td>\n",
       "      <td>0</td>\n",
       "      <td>2</td>\n",
       "      <td>0</td>\n",
       "      <td>0</td>\n",
       "      <td>2</td>\n",
       "      <td>B1</td>\n",
       "    </tr>\n",
       "    <tr>\n",
       "      <th>4</th>\n",
       "      <td>961</td>\n",
       "      <td>96</td>\n",
       "      <td>1</td>\n",
       "      <td>0</td>\n",
       "      <td>1</td>\n",
       "      <td>0</td>\n",
       "      <td>2</td>\n",
       "      <td>0</td>\n",
       "      <td>2</td>\n",
       "      <td>0</td>\n",
       "      <td>0</td>\n",
       "      <td>2</td>\n",
       "      <td>B1</td>\n",
       "    </tr>\n",
       "  </tbody>\n",
       "</table>\n",
       "</div>"
      ],
      "text/plain": [
       "   RFbucket  Slot  Head-On IP1  Head-On IP2  Head-On IP5  Head-On IP8  \\\n",
       "0       121    12            1            0            1            0   \n",
       "1       331    33            1            0            1            0   \n",
       "2       541    54            1            0            1            0   \n",
       "3       751    75            1            0            1            0   \n",
       "4       961    96            1            0            1            0   \n",
       "\n",
       "   Head-On Tot  LR IP1  LR IP2  LR IP5  LR IP8  LR Tot beam  \n",
       "0            2       0       2       0       0       2   B1  \n",
       "1            2       0       2       0       0       2   B1  \n",
       "2            2       0       2       0       0       2   B1  \n",
       "3            2       0       2       0       0       2   B1  \n",
       "4            2       0       2       0       0       2   B1  "
      ]
     },
     "execution_count": 15,
     "metadata": {},
     "output_type": "execute_result"
    }
   ],
   "source": [
    "lrcollbeam = lpcfscheme.lrbeamDF\n",
    "lrcollbeam[lrcollbeam['beam'] == 'B1'].head()"
   ]
  },
  {
   "cell_type": "code",
   "execution_count": 16,
   "metadata": {},
   "outputs": [
    {
     "data": {
      "text/html": [
       "<div>\n",
       "<style scoped>\n",
       "    .dataframe tbody tr th:only-of-type {\n",
       "        vertical-align: middle;\n",
       "    }\n",
       "\n",
       "    .dataframe tbody tr th {\n",
       "        vertical-align: top;\n",
       "    }\n",
       "\n",
       "    .dataframe thead th {\n",
       "        text-align: right;\n",
       "    }\n",
       "</style>\n",
       "<table border=\"1\" class=\"dataframe\">\n",
       "  <thead>\n",
       "    <tr style=\"text-align: right;\">\n",
       "      <th></th>\n",
       "      <th>bucket number</th>\n",
       "      <th>IP1</th>\n",
       "      <th>IP2</th>\n",
       "      <th>IP5</th>\n",
       "      <th>IP8</th>\n",
       "      <th>beam</th>\n",
       "    </tr>\n",
       "  </thead>\n",
       "  <tbody>\n",
       "    <tr>\n",
       "      <th>0</th>\n",
       "      <td>121</td>\n",
       "      <td>121</td>\n",
       "      <td>26851</td>\n",
       "      <td>121</td>\n",
       "      <td>-</td>\n",
       "      <td>B2</td>\n",
       "    </tr>\n",
       "    <tr>\n",
       "      <th>1</th>\n",
       "      <td>331</td>\n",
       "      <td>331</td>\n",
       "      <td>27061</td>\n",
       "      <td>331</td>\n",
       "      <td>-</td>\n",
       "      <td>B2</td>\n",
       "    </tr>\n",
       "    <tr>\n",
       "      <th>2</th>\n",
       "      <td>541</td>\n",
       "      <td>541</td>\n",
       "      <td>27271</td>\n",
       "      <td>541</td>\n",
       "      <td>-</td>\n",
       "      <td>B2</td>\n",
       "    </tr>\n",
       "    <tr>\n",
       "      <th>3</th>\n",
       "      <td>751</td>\n",
       "      <td>751</td>\n",
       "      <td>27481</td>\n",
       "      <td>751</td>\n",
       "      <td>-</td>\n",
       "      <td>B2</td>\n",
       "    </tr>\n",
       "    <tr>\n",
       "      <th>4</th>\n",
       "      <td>961</td>\n",
       "      <td>961</td>\n",
       "      <td>27691</td>\n",
       "      <td>961</td>\n",
       "      <td>-</td>\n",
       "      <td>B2</td>\n",
       "    </tr>\n",
       "  </tbody>\n",
       "</table>\n",
       "</div>"
      ],
      "text/plain": [
       "  bucket number  IP1    IP2  IP5 IP8 beam\n",
       "0           121  121  26851  121   -   B2\n",
       "1           331  331  27061  331   -   B2\n",
       "2           541  541  27271  541   -   B2\n",
       "3           751  751  27481  751   -   B2\n",
       "4           961  961  27691  961   -   B2"
      ]
     },
     "execution_count": 16,
     "metadata": {},
     "output_type": "execute_result"
    }
   ],
   "source": [
    "hobeam = lpcfscheme.hobeamDF\n",
    "hobeam[hobeam['beam'] == 'B2'].head()"
   ]
  },
  {
   "cell_type": "markdown",
   "metadata": {},
   "source": [
    "## Do some plots"
   ]
  },
  {
   "cell_type": "code",
   "execution_count": 21,
   "metadata": {},
   "outputs": [
    {
     "data": {
      "text/plain": [
       "<matplotlib.legend.Legend at 0x7f3035fcde48>"
      ]
     },
     "execution_count": 21,
     "metadata": {},
     "output_type": "execute_result"
    },
    {
     "data": {
      "image/png": "[encoded data removed]",
      "text/plain": [
       "<Figure size 1080x576 with 1 Axes>"
      ]
     },
     "metadata": {},
     "output_type": "display_data"
    }
   ],
   "source": [
    "fig, ax = plt.subplots(1,1, figsize=(15,8))\n",
    "\n",
    "_tmp0 = lpcfscheme.lrbeamDF[['beam','Slot','Head-On IP1','Head-On IP2','Head-On IP8']].copy()\n",
    "\n",
    "_tmp = _tmp0[_tmp0['beam'] == 'B1'].copy()\n",
    "_tmp['hoip1s'] = _tmp['Head-On IP1']*1.000\n",
    "_tmp['hoip2s'] = _tmp['Head-On IP2']*0.999\n",
    "_tmp['hoip8s'] = _tmp['Head-On IP8']*0.998\n",
    "_tmp.plot(x='Slot',y='hoip1s', label='B1 - hoIP1', marker='o', style='o', ax=ax)\n",
    "_tmp.plot(x='Slot',y='hoip8s', label='B1 - hoIP8', marker='v', style='o', ax=ax)\n",
    "_tmp.plot(x='Slot',y='hoip2s', label='B1 - hoIP2', marker='<', style='o', ax=ax)\n",
    "\n",
    "_tmp = _tmp0[_tmp0['beam'] == 'B2'].copy()\n",
    "_tmp['hoip1s'] = _tmp['Head-On IP1']*0.995\n",
    "_tmp['hoip2s'] = _tmp['Head-On IP2']*0.994\n",
    "_tmp['hoip8s'] = _tmp['Head-On IP8']*0.993\n",
    "_tmp.plot(x='Slot',y='hoip1s', label='B2 - hoIP1', marker='o', fillstyle='none', style='o', ax=ax)\n",
    "_tmp.plot(x='Slot',y='hoip8s', label='B2 - hoIP8', marker='v', fillstyle='none', style='o', ax=ax)\n",
    "_tmp.plot(x='Slot',y='hoip2s', label='B2 - hoIP2', marker='<', fillstyle='none', style='o', ax=ax)\n",
    "\n",
    "plt.ylim(0.99,1.005)\n",
    "plt.xlabel('Bunch ID [BID]')\n",
    "plt.ylabel('HO collisions')\n",
    "plt.title('LPC data : HO Collisions per BID - fill {}'.format(fno))\n",
    "plt.legend()"
   ]
  },
  {
   "cell_type": "code",
   "execution_count": 22,
   "metadata": {},
   "outputs": [
    {
     "data": {
      "text/plain": [
       "<matplotlib.legend.Legend at 0x7f3035fb7828>"
      ]
     },
     "execution_count": 22,
     "metadata": {},
     "output_type": "execute_result"
    },
    {
     "data": {
      "image/png": "[encoded data removed]",
      "text/plain": [
       "<Figure size 1080x576 with 1 Axes>"
      ]
     },
     "metadata": {},
     "output_type": "display_data"
    }
   ],
   "source": [
    "fig, ax = plt.subplots(1,1, figsize=(15,8))\n",
    "_tmp = lpcfscheme.lrbeamDF[lpcfscheme.lrbeamDF['beam']== 'B1']\n",
    "_tmp.plot(x='Slot', y='LR IP1', label='B1 - lrIP1', marker='o', style='-', ax=ax)\n",
    "_tmp.plot(x='Slot', y='LR IP2', label='B1 - lrIP2', marker='v', style='-', ax=ax)\n",
    "_tmp.plot(x='Slot', y='LR IP5', label='B1 - lrIP5', marker='<', style='-', ax=ax)\n",
    "_tmp.plot(x='Slot', y='LR IP8', label='B1 - lrIP8', marker='^', style='-', ax=ax)\n",
    "\n",
    "# plt.ylim(0.99,1.005)\n",
    "plt.xlabel('Bunch ID [BID]')\n",
    "plt.ylabel('HO collisions')\n",
    "plt.title('LPC data : LR Collisions per BID - fill {}'.format(fno))\n",
    "plt.legend()"
   ]
  },
  {
   "cell_type": "code",
   "execution_count": 25,
   "metadata": {},
   "outputs": [
    {
     "data": {
      "text/plain": [
       "array([  121,   331,   541,   751,   961,  1171,  1381,  1591,  1801,\n",
       "        2011,  2221,  2431,  2641,  2851,  3061,  3271,  7171,  7381,\n",
       "        7591,  7801,  8011,  8221,  8431,  8641,  8961,  9171,  9381,\n",
       "        9591,  9801, 10011, 10221, 10431, 10641, 10851, 11061, 11271,\n",
       "       11481, 11691, 11901, 12111, 12531, 12741, 12951, 13161, 13371,\n",
       "       13581, 13791, 14001, 14321, 14531, 14741, 14951, 15161, 15371,\n",
       "       15581, 15791, 16001, 16211, 16421, 16631, 16841, 17051, 17261,\n",
       "       17471, 17791, 18001, 18211, 18421, 18631, 18841, 19051, 19261,\n",
       "       19471, 19681, 19891, 20101, 20311, 20521, 20731, 20941, 21281,\n",
       "       21491, 21701, 21911, 22121, 22331, 22541, 22751, 22961, 23171,\n",
       "       23381, 23591, 23801, 24011, 24221, 24431, 28641, 28851, 29061,\n",
       "       29271, 29481, 29691, 29901, 30111, 30321, 30531, 30741, 30951,\n",
       "       31271, 31481, 31691, 31901, 32111, 32321, 32531, 32741, 32951,\n",
       "       33161, 33371, 33581, 33791, 34001, 34211, 34421])"
      ]
     },
     "execution_count": 25,
     "metadata": {},
     "output_type": "execute_result"
    }
   ],
   "source": [
    "_tmp = lpcfscheme.lrbeamDF\n",
    "_tmp[(_tmp['Head-On IP1'] == 1) & (_tmp['beam'] == 'B1')].shape\n",
    "rfbuck_coll_ip1 = _tmp[(_tmp['Head-On IP1'] == 1) & (_tmp['beam'] == 'B1')]['RFbucket'].values\n",
    "rfbuck_coll_ip1"
   ]
  },
  {
   "cell_type": "code",
   "execution_count": 26,
   "metadata": {},
   "outputs": [
    {
     "data": {
      "text/html": [
       "<div>\n",
       "<style scoped>\n",
       "    .dataframe tbody tr th:only-of-type {\n",
       "        vertical-align: middle;\n",
       "    }\n",
       "\n",
       "    .dataframe tbody tr th {\n",
       "        vertical-align: top;\n",
       "    }\n",
       "\n",
       "    .dataframe thead th {\n",
       "        text-align: right;\n",
       "    }\n",
       "</style>\n",
       "<table border=\"1\" class=\"dataframe\">\n",
       "  <thead>\n",
       "    <tr style=\"text-align: right;\">\n",
       "      <th></th>\n",
       "      <th></th>\n",
       "      <th>RFbucketbeam1</th>\n",
       "      <th>RFbucketbeam2</th>\n",
       "    </tr>\n",
       "    <tr>\n",
       "      <th>ip</th>\n",
       "      <th>z-pos/m</th>\n",
       "      <th></th>\n",
       "      <th></th>\n",
       "    </tr>\n",
       "  </thead>\n",
       "  <tbody>\n",
       "    <tr>\n",
       "      <th>IP1</th>\n",
       "      <th>0.00</th>\n",
       "      <td>124</td>\n",
       "      <td>124</td>\n",
       "    </tr>\n",
       "    <tr>\n",
       "      <th rowspan=\"4\" valign=\"top\">IP2</th>\n",
       "      <th>-59.89</th>\n",
       "      <td>14</td>\n",
       "      <td>14</td>\n",
       "    </tr>\n",
       "    <tr>\n",
       "      <th>-41.18</th>\n",
       "      <td>8</td>\n",
       "      <td>8</td>\n",
       "    </tr>\n",
       "    <tr>\n",
       "      <th>-37.43</th>\n",
       "      <td>3</td>\n",
       "      <td>3</td>\n",
       "    </tr>\n",
       "    <tr>\n",
       "      <th>-29.95</th>\n",
       "      <td>29</td>\n",
       "      <td>29</td>\n",
       "    </tr>\n",
       "  </tbody>\n",
       "</table>\n",
       "</div>"
      ],
      "text/plain": [
       "             RFbucketbeam1  RFbucketbeam2\n",
       "ip  z-pos/m                              \n",
       "IP1  0.00              124            124\n",
       "IP2 -59.89              14             14\n",
       "    -41.18               8              8\n",
       "    -37.43               3              3\n",
       "    -29.95              29             29"
      ]
     },
     "execution_count": 26,
     "metadata": {},
     "output_type": "execute_result"
    }
   ],
   "source": [
    "_tmp = lpcfscheme.longrangeDF\n",
    "lrdf = _tmp[_tmp['RFbucketbeam1'].isin(rfbuck_coll_ip1)]\n",
    "xx = lrdf.groupby(['ip','z-pos/m']).count()\n",
    "xx.head()"
   ]
  },
  {
   "cell_type": "code",
   "execution_count": 27,
   "metadata": {},
   "outputs": [
    {
     "data": {
      "image/png": "[encoded data removed]",
      "text/plain": [
       "<Figure size 1080x576 with 1 Axes>"
      ]
     },
     "metadata": {},
     "output_type": "display_data"
    }
   ],
   "source": [
    "fig, ax = plt.subplots(1,1, figsize=(15,8))\n",
    "lrdf.groupby(['z-pos/m','ip']).count()['RFbucketbeam1'].unstack().plot(marker='o',ax=ax)\n",
    "plt.ylabel('Long-range encounters')\n",
    "plt.xlabel('Distance from IP [m]')\n",
    "plt.title('LPC - Long-range encounters per IP for bunches colliding at IP1/IP5'.format(fno))\n",
    "plt.grid()\n",
    "plt.show()"
   ]
  }
 ],
 "metadata": {
  "kernelspec": {
   "display_name": "Python 3",
   "language": "python",
   "name": "python3"
  },
  "language_info": {
   "codemirror_mode": {
    "name": "ipython",
    "version": 3
   },
   "file_extension": ".py",
   "mimetype": "text/x-python",
   "name": "python",
   "nbconvert_exporter": "python",
   "pygments_lexer": "ipython3",
   "version": "3.6.5"
  },
  "toc": {
   "base_numbering": 1,
   "nav_menu": {},
   "number_sections": true,
   "sideBar": true,
   "skip_h1_title": false,
   "title_cell": "Table of Contents",
   "title_sidebar": "Contents",
   "toc_cell": false,
   "toc_position": {},
   "toc_section_display": true,
   "toc_window_display": false
  }
 },
 "nbformat": 4,
 "nbformat_minor": 4
}
